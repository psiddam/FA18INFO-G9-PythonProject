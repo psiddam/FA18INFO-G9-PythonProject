{
 "cells": [
  {
   "cell_type": "code",
   "execution_count": 1,
   "metadata": {
    "collapsed": true
   },
   "outputs": [],
   "source": [
    "# Import packages\n",
    "%matplotlib inline\n",
    "import pylab as plt\n",
    "import pandas as pd\n",
    "import numpy as np\n",
    "# Loading the data file from github data folder\n",
    "url=\"https://raw.githubusercontent.com/psiddam/FA18INFO-G9-PythonProject/master/Phase1/Data/Breast-Cancer-Wisconsin.csv\"\n",
    "df = pd.read_csv(url)"
   ]
  },
  {
   "cell_type": "code",
   "execution_count": 2,
   "metadata": {},
   "outputs": [
    {
     "data": {
      "text/plain": [
       "Scn      False\n",
       "A2       False\n",
       "A3       False\n",
       "A4       False\n",
       "A5       False\n",
       "A6       False\n",
       "A7       False\n",
       "A8       False\n",
       "A9       False\n",
       "A10      False\n",
       "CLASS    False\n",
       "dtype: bool"
      ]
     },
     "execution_count": 2,
     "metadata": {},
     "output_type": "execute_result"
    }
   ],
   "source": [
    "df.isnull().any()"
   ]
  },
  {
   "cell_type": "code",
   "execution_count": 3,
   "metadata": {},
   "outputs": [
    {
     "name": "stdout",
     "output_type": "stream",
     "text": [
      "There are 11 values in A7 Column\n",
      "Unique values are ['1' '10' '2' '4' '3' '9' '7' '?' '5' '8' '6']\n",
      "Data type is: object\n",
      "There are 11 values in A7 Column\n",
      "Unique values are ['1' '10' '2' '4' '3' '9' '7' nan '5' '8' '6']\n",
      "Data type is: object\n"
     ]
    }
   ],
   "source": [
    "count = len(df[\"A7\"].unique())\n",
    "print(\"There are\",count,\"values in A7 Column\")\n",
    "print(\"Unique values are\",df[\"A7\"].unique())\n",
    "print(\"Data type is:\",df[\"A7\"].dtype)\n",
    "df[\"A7\"].replace(\n",
    "    to_replace=['?'],\n",
    "    value=np.NaN,\n",
    "    inplace=True)\n",
    "\n",
    "print(\"There are\",count,\"values in A7 Column\")\n",
    "print(\"Unique values are\",df[\"A7\"].unique())\n",
    "print(\"Data type is:\",df[\"A7\"].dtype)"
   ]
  },
  {
   "cell_type": "code",
   "execution_count": 4,
   "metadata": {},
   "outputs": [
    {
     "name": "stdout",
     "output_type": "stream",
     "text": [
      "Data type for A7 after converting to numeric is float64\n",
      "Count of NaN values from A7 are 16\n"
     ]
    }
   ],
   "source": [
    "\n",
    "#df[\"A7\"]=pd.to_numeric(df[\"A7\"],downcast=\"integer\")\n",
    "df.loc[:,\"A7\"]=df.loc[:,\"A7\"].apply(pd.to_numeric)\n",
    "print(\"Data type for A7 after converting to numeric is\",df[\"A7\"].dtype)\n",
    "\n",
    "sc=df[\"A7\"].isnull().sum()\n",
    "print(\"Count of NaN values from A7 are\", sc)"
   ]
  },
  {
   "cell_type": "code",
   "execution_count": 5,
   "metadata": {},
   "outputs": [
    {
     "name": "stdout",
     "output_type": "stream",
     "text": [
      "There are 11 values in A7 Column\n",
      "Unique values are [  1.          10.           2.           4.           3.           9.           7.\n",
      "   3.54465593   5.           8.           6.        ]\n",
      "Data type is: float64\n",
      "                Scn          A2          A3          A4          A5  \\\n",
      "count  6.990000e+02  699.000000  699.000000  699.000000  699.000000   \n",
      "mean   1.071704e+06    4.417740    3.134478    3.207439    2.806867   \n",
      "std    6.170957e+05    2.815741    3.051459    2.971913    2.855379   \n",
      "min    6.163400e+04    1.000000    1.000000    1.000000    1.000000   \n",
      "25%    8.706885e+05    2.000000    1.000000    1.000000    1.000000   \n",
      "50%    1.171710e+06    4.000000    1.000000    1.000000    1.000000   \n",
      "75%    1.238298e+06    6.000000    5.000000    5.000000    4.000000   \n",
      "max    1.345435e+07   10.000000   10.000000   10.000000   10.000000   \n",
      "\n",
      "               A6          A7          A8          A9         A10       CLASS  \n",
      "count  699.000000  699.000000  699.000000  699.000000  699.000000  699.000000  \n",
      "mean     3.216023    3.544656    3.437768    2.866953    1.589413    2.689557  \n",
      "std      2.214300    3.601852    2.438364    3.053634    1.715078    0.951273  \n",
      "min      1.000000    1.000000    1.000000    1.000000    1.000000    2.000000  \n",
      "25%      2.000000    1.000000    2.000000    1.000000    1.000000    2.000000  \n",
      "50%      2.000000    1.000000    3.000000    1.000000    1.000000    2.000000  \n",
      "75%      4.000000    5.000000    5.000000    4.000000    1.000000    4.000000  \n",
      "max     10.000000   10.000000   10.000000   10.000000   10.000000    4.000000  \n",
      "Data Frame has 699 rows\n",
      "Data Frame has 11 Columns\n"
     ]
    }
   ],
   "source": [
    "df.fillna(df.mean(skipna=True),inplace= True)\n",
    "\n",
    "count = len(df[\"A7\"].unique())\n",
    "print(\"There are\",count,\"values in A7 Column\")\n",
    "print(\"Unique values are\",df[\"A7\"].unique())\n",
    "print(\"Data type is:\",df[\"A7\"].dtype)\n",
    "\n",
    "print(df.describe())\n",
    "\n",
    "r,c =df.shape[:]\n",
    "print(\"Data Frame has\",r,\"rows\")\n",
    "print(\"Data Frame has\",c,\"Columns\")"
   ]
  },
  {
   "cell_type": "code",
   "execution_count": 6,
   "metadata": {},
   "outputs": [
    {
     "name": "stdout",
     "output_type": "stream",
     "text": [
      "Scn column has 645 unique values\n"
     ]
    },
    {
     "data": {
      "text/plain": [
       "<matplotlib.axes._subplots.AxesSubplot at 0x1211c8630>"
      ]
     },
     "execution_count": 6,
     "metadata": {},
     "output_type": "execute_result"
    },
    {
     "data": {
      "image/png": "[encoded data removed]",
      "text/plain": [
       "<matplotlib.figure.Figure at 0x117c242b0>"
      ]
     },
     "metadata": {},
     "output_type": "display_data"
    },
    {
     "data": {
      "image/png": "[encoded data removed]",
      "text/plain": [
       "<matplotlib.figure.Figure at 0x12027c710>"
      ]
     },
     "metadata": {},
     "output_type": "display_data"
    }
   ],
   "source": [
    "uscn=len(df[\"Scn\"].unique())\n",
    "print(\"Scn column has\",uscn,\"unique values\")\n",
    "df.iloc[:,1:10].hist(grid=False,bins=15,color=[\"r\"])\n",
    "plt.tight_layout(rect=(0, 0, 1.2, 1.2))\n",
    "\n",
    "\n",
    "\n"
   ]
  },
  {
   "cell_type": "code",
   "execution_count": null,
   "metadata": {
    "collapsed": true
   },
   "outputs": [],
   "source": [
    "Draw a bar plot for CLASS "
   ]
  },
  {
   "cell_type": "code",
   "execution_count": 12,
   "metadata": {},
   "outputs": [],
   "source": [
    "\n",
    "selections = df['CLASS']\n"
   ]
  },
  {
   "cell_type": "code",
   "execution_count": 13,
   "metadata": {},
   "outputs": [
    {
     "data": {
      "text/plain": [
       "<matplotlib.axes._subplots.AxesSubplot at 0x117c0a470>"
      ]
     },
     "execution_count": 13,
     "metadata": {},
     "output_type": "execute_result"
    },
    {
     "data": {
      "image/png": "[encoded data removed]",
      "text/plain": [
       "<matplotlib.figure.Figure at 0x1203d0cc0>"
      ]
     },
     "metadata": {},
     "output_type": "display_data"
    }
   ],
   "source": [
    "selections.value_counts().plot(kind = \"bar\")\n"
   ]
  }
 ],
 "metadata": {
  "kernelspec": {
   "display_name": "Python 3",
   "language": "python",
   "name": "python3"
  },
  "language_info": {
   "codemirror_mode": {
    "name": "ipython",
    "version": 3
   },
   "file_extension": ".py",
   "mimetype": "text/x-python",
   "name": "python",
   "nbconvert_exporter": "python",
   "pygments_lexer": "ipython3",
   "version": "3.6.3"
  }
 },
 "nbformat": 4,
 "nbformat_minor": 2
}
