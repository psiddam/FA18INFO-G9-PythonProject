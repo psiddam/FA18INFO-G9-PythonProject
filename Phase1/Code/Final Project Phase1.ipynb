{
 "cells": [
  {
   "cell_type": "markdown",
   "metadata": {},
   "source": [
    "# Final Project Phase1\n",
    "### Group 9\n",
    "#### Contributors: Shanmukh, Parag, Hao"
   ]
  },
  {
   "cell_type": "markdown",
   "metadata": {},
   "source": [
    "##### Version 0.1"
   ]
  },
  {
   "cell_type": "code",
   "execution_count": 8,
   "metadata": {
    "collapsed": true
   },
   "outputs": [],
   "source": [
    "# Import packages\n",
    "%matplotlib inline\n",
    "import pylab as plt\n",
    "import pandas as pd\n",
    "import numpy as np"
   ]
  },
  {
   "cell_type": "code",
   "execution_count": 9,
   "metadata": {
    "collapsed": true
   },
   "outputs": [],
   "source": [
    "# Loading the data file from github data folder\n",
    "url=\"https://raw.githubusercontent.com/psiddam/FA18INFO-G9-PythonProject/master/Phase1/Data/Breast-Cancer-Wisconsin.csv\"\n",
    "df = pd.read_csv(url)"
   ]
  },
  {
   "cell_type": "markdown",
   "metadata": {},
   "source": [
    "##### Verify for null values in the data frame"
   ]
  },
  {
   "cell_type": "code",
   "execution_count": 10,
   "metadata": {
    "collapsed": false
   },
   "outputs": [
    {
     "data": {
      "text/plain": [
       "Scn      False\n",
       "A2       False\n",
       "A3       False\n",
       "A4       False\n",
       "A5       False\n",
       "A6       False\n",
       "A7       False\n",
       "A8       False\n",
       "A9       False\n",
       "A10      False\n",
       "CLASS    False\n",
       "dtype: bool"
      ]
     },
     "execution_count": 10,
     "metadata": {},
     "output_type": "execute_result"
    }
   ],
   "source": [
    "#Checking for null in data\n",
    "df.isnull().any()"
   ]
  },
  {
   "cell_type": "markdown",
   "metadata": {},
   "source": [
    "#### Details of A7 column"
   ]
  },
  {
   "cell_type": "code",
   "execution_count": 11,
   "metadata": {
    "collapsed": false
   },
   "outputs": [
    {
     "name": "stdout",
     "output_type": "stream",
     "text": [
      "There are 11 values in A7 Column\n",
      "Unique values are ['1' '10' '2' '4' '3' '9' '7' '?' '5' '8' '6']\n",
      "Data type is: object\n"
     ]
    }
   ],
   "source": [
    "#Checking for unique values in column A7\n",
    "count = len(df[\"A7\"].unique())\n",
    "print(\"There are\",count,\"values in A7 Column\")\n",
    "print(\"Unique values are\",df[\"A7\"].unique())\n",
    "print(\"Data type is:\",df[\"A7\"].dtype)"
   ]
  },
  {
   "cell_type": "markdown",
   "metadata": {},
   "source": [
    "#### Replace ? value in column A7 by NaN"
   ]
  },
  {
   "cell_type": "code",
   "execution_count": 12,
   "metadata": {
    "collapsed": true
   },
   "outputs": [],
   "source": [
    "#Replacing all ? values with NaN\n",
    "df[\"A7\"].replace(\n",
    "    to_replace=['?'],\n",
    "    value=np.NaN,\n",
    "    inplace=True)"
   ]
  },
  {
   "cell_type": "markdown",
   "metadata": {},
   "source": [
    "##### Details of A7 column after replacing ? to NaN"
   ]
  },
  {
   "cell_type": "code",
   "execution_count": 13,
   "metadata": {
    "collapsed": false
   },
   "outputs": [
    {
     "name": "stdout",
     "output_type": "stream",
     "text": [
      "There are 11 values in A7 Column\n",
      "Unique values are ['1' '10' '2' '4' '3' '9' '7' nan '5' '8' '6']\n",
      "Data type is: object\n"
     ]
    }
   ],
   "source": [
    "#Checking for unique values in column A7\n",
    "print(\"There are\",count,\"values in A7 Column\")\n",
    "print(\"Unique values are\",df[\"A7\"].unique())\n",
    "print(\"Data type is:\",df[\"A7\"].dtype)"
   ]
  },
  {
   "cell_type": "markdown",
   "metadata": {},
   "source": [
    "#### Convert A7 column to numeric"
   ]
  },
  {
   "cell_type": "code",
   "execution_count": 14,
   "metadata": {
    "collapsed": false
   },
   "outputs": [
    {
     "name": "stdout",
     "output_type": "stream",
     "text": [
      "Data type for A7 after converting to numeric is float64\n"
     ]
    }
   ],
   "source": [
    "#Converting column A7 to numeric\n",
    "#df[\"A7\"]=pd.to_numeric(df[\"A7\"],downcast=\"integer\")\n",
    "df.loc[:,\"A7\"]=df.loc[:,\"A7\"].apply(pd.to_numeric)\n",
    "print(\"Data type for A7 after converting to numeric is\",df[\"A7\"].dtype)"
   ]
  },
  {
   "cell_type": "markdown",
   "metadata": {},
   "source": [
    "#### Count of Nan Values from A7"
   ]
  },
  {
   "cell_type": "code",
   "execution_count": 15,
   "metadata": {
    "collapsed": false
   },
   "outputs": [
    {
     "name": "stdout",
     "output_type": "stream",
     "text": [
      "Count of NaN values from A7 are 16\n"
     ]
    }
   ],
   "source": [
    "#Counting null values of column A7\n",
    "sc=df[\"A7\"].isnull().sum()\n",
    "print(\"Count of NaN values from A7 are\", sc)"
   ]
  },
  {
   "cell_type": "markdown",
   "metadata": {},
   "source": [
    "#### Replace NaN values with mean of column A7"
   ]
  },
  {
   "cell_type": "code",
   "execution_count": 16,
   "metadata": {
    "collapsed": true
   },
   "outputs": [],
   "source": [
    "#replacing null values with mean\n",
    "df.fillna(df.mean(skipna=True),inplace= True)"
   ]
  },
  {
   "cell_type": "markdown",
   "metadata": {},
   "source": [
    "#### Column A7 Details after replacing NaN with Mean value"
   ]
  },
  {
   "cell_type": "code",
   "execution_count": 25,
   "metadata": {
    "collapsed": false
   },
   "outputs": [
    {
     "name": "stdout",
     "output_type": "stream",
     "text": [
      "There are 11 values in A7 Column\n",
      "Unique values are [ 1.         10.          2.          4.          3.          9.\n",
      "  7.          3.54465593  5.          8.          6.        ]\n",
      "Data type is: float64\n"
     ]
    }
   ],
   "source": [
    "#Checking for unique values in column A7\n",
    "count = len(df[\"A7\"].unique())\n",
    "print(\"There are\",count,\"values in A7 Column\")\n",
    "print(\"Unique values are\",df[\"A7\"].unique())\n",
    "print(\"Data type is:\",df[\"A7\"].dtype)\n"
   ]
  },
  {
   "cell_type": "markdown",
   "metadata": {},
   "source": [
    "#### Summary Statistics of the data frame"
   ]
  },
  {
   "cell_type": "code",
   "execution_count": 26,
   "metadata": {
    "collapsed": false
   },
   "outputs": [
    {
     "name": "stdout",
     "output_type": "stream",
     "text": [
      "                Scn          A2          A3          A4          A5  \\\n",
      "count  6.990000e+02  699.000000  699.000000  699.000000  699.000000   \n",
      "mean   1.071704e+06    4.417740    3.134478    3.207439    2.806867   \n",
      "std    6.170957e+05    2.815741    3.051459    2.971913    2.855379   \n",
      "min    6.163400e+04    1.000000    1.000000    1.000000    1.000000   \n",
      "25%    8.706885e+05    2.000000    1.000000    1.000000    1.000000   \n",
      "50%    1.171710e+06    4.000000    1.000000    1.000000    1.000000   \n",
      "75%    1.238298e+06    6.000000    5.000000    5.000000    4.000000   \n",
      "max    1.345435e+07   10.000000   10.000000   10.000000   10.000000   \n",
      "\n",
      "               A6          A7          A8          A9         A10       CLASS  \n",
      "count  699.000000  699.000000  699.000000  699.000000  699.000000  699.000000  \n",
      "mean     3.216023    3.544656    3.437768    2.866953    1.589413    2.689557  \n",
      "std      2.214300    3.601852    2.438364    3.053634    1.715078    0.951273  \n",
      "min      1.000000    1.000000    1.000000    1.000000    1.000000    2.000000  \n",
      "25%      2.000000    1.000000    2.000000    1.000000    1.000000    2.000000  \n",
      "50%      2.000000    1.000000    3.000000    1.000000    1.000000    2.000000  \n",
      "75%      4.000000    5.000000    5.000000    4.000000    1.000000    4.000000  \n",
      "max     10.000000   10.000000   10.000000   10.000000   10.000000    4.000000  \n"
     ]
    }
   ],
   "source": [
    "#Calling describe method on df to get the summary statistics\n",
    "print(df.describe())"
   ]
  },
  {
   "cell_type": "markdown",
   "metadata": {},
   "source": [
    "#### Number of rows and columns in the data frame"
   ]
  },
  {
   "cell_type": "code",
   "execution_count": 27,
   "metadata": {
    "collapsed": false
   },
   "outputs": [
    {
     "name": "stdout",
     "output_type": "stream",
     "text": [
      "Data Frame has 699 rows\n",
      "Data Frame has 11 Columns\n"
     ]
    }
   ],
   "source": [
    "#Using shape to findout number of rows and columns in the df\n",
    "r,c =df.shape[:]\n",
    "print(\"Data Frame has\",r,\"rows\")\n",
    "print(\"Data Frame has\",c,\"Columns\")"
   ]
  },
  {
   "cell_type": "markdown",
   "metadata": {},
   "source": [
    "#### Unique id values from Scn column"
   ]
  },
  {
   "cell_type": "code",
   "execution_count": 20,
   "metadata": {
    "collapsed": false
   },
   "outputs": [
    {
     "name": "stdout",
     "output_type": "stream",
     "text": [
      "Scn column has 645 unique values\n"
     ]
    }
   ],
   "source": [
    "uscn=len(df[\"Scn\"].unique())\n",
    "print(\"Scn column has\",uscn,\"unique values\")"
   ]
  },
  {
   "cell_type": "markdown",
   "metadata": {},
   "source": [
    "#### Historgrams for columns A2 to A10"
   ]
  },
  {
   "cell_type": "code",
   "execution_count": 21,
   "metadata": {
    "collapsed": false
   },
   "outputs": [
    {
     "data": {
      "image/png": "[encoded data removed]",
      "text/plain": [
       "<Figure size 432x288 with 9 Axes>"
      ]
     },
     "metadata": {},
     "output_type": "display_data"
    }
   ],
   "source": [
    "#Plotting histograms for all the columns\n",
    "df.iloc[:,1:10].hist(grid=False,bins=15,color=[\"r\"])\n",
    "plt.tight_layout(rect=(0, 0, 1.2, 1.2))"
   ]
  },
  {
   "cell_type": "markdown",
   "metadata": {},
   "source": [
    "#### Bar Plot for CLASS column with count of  benign and malignant values "
   ]
  },
  {
   "cell_type": "code",
   "execution_count": 29,
   "metadata": {
    "collapsed": false
   },
   "outputs": [
    {
     "data": {
      "text/plain": [
       "Text(0.5,1,'Bar plot for clASS')"
      ]
     },
     "execution_count": 29,
     "metadata": {},
     "output_type": "execute_result"
    },
    {
     "data": {
      "image/png": "[encoded data removed]",
      "text/plain": [
       "<Figure size 432x288 with 1 Axes>"
      ]
     },
     "metadata": {},
     "output_type": "display_data"
    }
   ],
   "source": [
    "#Plotting bar plot for class column with count of benign and malignant values\n",
    "selections = df['CLASS']\n",
    "ax=selections.value_counts().plot(kind = \"bar\",color=[\"g\"])\n",
    "ax.set_xlabel(\"Tumor type\", fontsize=12)\n",
    "ax.set_ylabel(\"Count\", fontsize=12)\n",
    "ax.set_title(\"Bar plot for clASS\")"
   ]
  },
  {
   "cell_type": "markdown",
   "metadata": {},
   "source": [
    "#### Scatter plot"
   ]
  },
  {
   "cell_type": "code",
   "execution_count": 37,
   "metadata": {
    "collapsed": false
   },
   "outputs": [
    {
     "data": {
      "text/plain": [
       "<matplotlib.axes._subplots.AxesSubplot at 0x5465cc0>"
      ]
     },
     "execution_count": 37,
     "metadata": {},
     "output_type": "execute_result"
    },
    {
     "data": {
      "image/png": "[encoded data removed]",
      "text/plain": [
       "<Figure size 432x288 with 1 Axes>"
      ]
     },
     "metadata": {},
     "output_type": "display_data"
    }
   ],
   "source": [
    "# Plotting scatter plot to visualize A3 and A4 columns\n",
    "df.plot(kind='scatter',\n",
    "        x='A3',\n",
    "        y='A4',\n",
    "        color=\"y\",\n",
    "        title=\"The scatter plot for potential association between A3 and A4\")"
   ]
  },
  {
   "cell_type": "code",
   "execution_count": 24,
   "metadata": {
    "collapsed": true
   },
   "outputs": [],
   "source": [
    "#Summarize by reporting which values might need standardization in the future \n",
    "#(too much variation) and any other observations that you may discover as a Data Scientist."
   ]
  },
  {
   "cell_type": "markdown",
   "metadata": {},
   "source": [
    "According to the summary table above,\n",
    "\n",
    "Potential relationship between marginal adhesion (A5) and class of breast cancer(CLASS) and the association of bare nuclei(A7) and class of breast cancer (CLASS) is our interest.\n",
    "\n",
    "Besides, the outliner for each variable, for example, A10 has a small tail for 10, and most of the A10 are less than 2.5. So 10 could be considered as outliner and could be removed for additional analysis.\n"
   ]
  }
 ],
 "metadata": {
  "anaconda-cloud": {},
  "kernelspec": {
   "display_name": "Python [default]",
   "language": "python",
   "name": "python3"
  },
  "language_info": {
   "codemirror_mode": {
    "name": "ipython",
    "version": 3
   },
   "file_extension": ".py",
   "mimetype": "text/x-python",
   "name": "python",
   "nbconvert_exporter": "python",
   "pygments_lexer": "ipython3",
   "version": "3.5.6"
  }
 },
 "nbformat": 4,
 "nbformat_minor": 1
}
